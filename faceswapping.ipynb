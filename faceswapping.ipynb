{
  "nbformat": 4,
  "nbformat_minor": 0,
  "metadata": {
    "colab": {
      "provenance": [],
      "authorship_tag": "ABX9TyPKURPWHFG305cUGRB5xoIp",
      "include_colab_link": true
    },
    "kernelspec": {
      "name": "python3",
      "display_name": "Python 3"
    },
    "language_info": {
      "name": "python"
    }
  },
  "cells": [
    {
      "cell_type": "markdown",
      "metadata": {
        "id": "view-in-github",
        "colab_type": "text"
      },
      "source": [
        "<a href=\"https://colab.research.google.com/github/Saramohamed188/faceswapping/blob/main/faceswapping.ipynb\" target=\"_parent\"><img src=\"https://colab.research.google.com/assets/colab-badge.svg\" alt=\"Open In Colab\"/></a>"
      ]
    },
    {
      "cell_type": "code",
      "execution_count": 2,
      "metadata": {
        "id": "nzm-dH0Klw3F"
      },
      "outputs": [],
      "source": [
        "import cv2"
      ]
    },
    {
      "cell_type": "code",
      "source": [
        "import numpy as np\n",
        "import dlib"
      ],
      "metadata": {
        "id": "NJrfko2El-S4"
      },
      "execution_count": 3,
      "outputs": []
    },
    {
      "cell_type": "code",
      "source": [
        "img = cv2.imread(\"/content/saramohamed.jpeg\")\n",
        "img_gray = cv2.cvtColor(img, cv2.COLOR_BGR2GRAY)"
      ],
      "metadata": {
        "id": "LjHGwkaomGjY"
      },
      "execution_count": 4,
      "outputs": []
    },
    {
      "cell_type": "code",
      "source": [
        "!pip install dlib==19.21.0"
      ],
      "metadata": {
        "id": "4fIsb5YLiL1P",
        "outputId": "faceed7b-33dd-451b-a9c2-6983bf245693",
        "colab": {
          "base_uri": "https://localhost:8080/",
          "height": 376
        }
      },
      "execution_count": 13,
      "outputs": [
        {
          "output_type": "stream",
          "name": "stdout",
          "text": [
            "Collecting dlib==19.21.0\n",
            "  Using cached dlib-19.21.0.tar.gz (3.2 MB)\n",
            "  Preparing metadata (setup.py) ... \u001b[?25l\u001b[?25hdone\n",
            "Building wheels for collected packages: dlib\n",
            "  Building wheel for dlib (setup.py) ... \u001b[?25l\u001b[?25hdone\n",
            "  Created wheel for dlib: filename=dlib-19.21.0-cp310-cp310-linux_x86_64.whl size=4678717 sha256=e438e36370d106e430d435be817beed1513aedcce4ac4afec00b6f4914c2efa4\n",
            "  Stored in directory: /root/.cache/pip/wheels/7f/71/20/dc1e240338e1a38daec67cf8a813f7342eb398fdafe9c32ba6\n",
            "Successfully built dlib\n",
            "Installing collected packages: dlib\n",
            "  Attempting uninstall: dlib\n",
            "    Found existing installation: dlib 19.24.2\n",
            "    Uninstalling dlib-19.24.2:\n",
            "      Successfully uninstalled dlib-19.24.2\n",
            "Successfully installed dlib-19.21.0\n"
          ]
        },
        {
          "output_type": "display_data",
          "data": {
            "application/vnd.colab-display-data+json": {
              "pip_warning": {
                "packages": [
                  "_dlib_pybind11",
                  "dlib"
                ]
              }
            }
          },
          "metadata": {}
        }
      ]
    },
    {
      "cell_type": "code",
      "source": [
        "detector = dlib.get_frontal_face_detector()\n",
        "predictor = dlib.shape_predictor(\"shape_predictor_68_face_landmarks.dat\")"
      ],
      "metadata": {
        "id": "UkXXh98DfHeS"
      },
      "execution_count": 5,
      "outputs": []
    },
    {
      "cell_type": "code",
      "source": [
        "faces = detector(img_gray)\n",
        "for face in faces:\n",
        "  landmarks = predictor(img_gray, face)\n",
        "  landmarks_points = []\n",
        "  for n in range(0,68):\n",
        "    x = landmarks.part(n).x\n",
        "    y = landmarks.part(n).y\n",
        "    landmarks_points.append((x, y))"
      ],
      "metadata": {
        "id": "IFC7Qz5ksN58"
      },
      "execution_count": 6,
      "outputs": []
    },
    {
      "cell_type": "code",
      "source": [
        "points = np.array(landmarks_points, np.int32)\n",
        "convexhull = cv2.convexHull(points)\n",
        "cv2.polylines(img, [convexhull] , True , (255,0,0), 3)"
      ],
      "metadata": {
        "id": "3DThODb6tJe1",
        "outputId": "0b9d9876-22bf-4a6f-ea2f-340910bb2d8e",
        "colab": {
          "base_uri": "https://localhost:8080/"
        }
      },
      "execution_count": 7,
      "outputs": [
        {
          "output_type": "execute_result",
          "data": {
            "text/plain": [
              "array([[[169, 189, 184],\n",
              "        [169, 189, 184],\n",
              "        [169, 189, 184],\n",
              "        ...,\n",
              "        [159, 173, 169],\n",
              "        [159, 173, 169],\n",
              "        [160, 174, 170]],\n",
              "\n",
              "       [[170, 190, 185],\n",
              "        [170, 190, 185],\n",
              "        [169, 189, 184],\n",
              "        ...,\n",
              "        [140, 154, 150],\n",
              "        [141, 154, 152],\n",
              "        [142, 156, 152]],\n",
              "\n",
              "       [[165, 184, 181],\n",
              "        [164, 183, 180],\n",
              "        [163, 182, 179],\n",
              "        ...,\n",
              "        [118, 131, 129],\n",
              "        [119, 131, 131],\n",
              "        [120, 133, 131]],\n",
              "\n",
              "       ...,\n",
              "\n",
              "       [[144, 144, 158],\n",
              "        [ 54,  54,  68],\n",
              "        [ 19,  17,  36],\n",
              "        ...,\n",
              "        [ 17,  20,  51],\n",
              "        [ 35,  39,  68],\n",
              "        [ 83,  87, 116]],\n",
              "\n",
              "       [[139, 136, 151],\n",
              "        [ 48,  48,  62],\n",
              "        [ 16,  14,  33],\n",
              "        ...,\n",
              "        [ 14,  16,  47],\n",
              "        [ 33,  35,  65],\n",
              "        [ 83,  86, 114]],\n",
              "\n",
              "       [[135, 132, 147],\n",
              "        [ 47,  44,  59],\n",
              "        [ 15,  13,  32],\n",
              "        ...,\n",
              "        [ 11,  13,  43],\n",
              "        [ 31,  33,  63],\n",
              "        [ 82,  85, 113]]], dtype=uint8)"
            ]
          },
          "metadata": {},
          "execution_count": 7
        }
      ]
    },
    {
      "cell_type": "code",
      "source": [
        "mask = np.zeros_like(img_gray)\n",
        "cv2.fillConvexPoly(mask, convexhull, 255)\n",
        "face_img_1 = cv2.bitwise_and(img, img, mask=mask)"
      ],
      "metadata": {
        "id": "txrvPwvFtrBe"
      },
      "execution_count": 8,
      "outputs": []
    },
    {
      "cell_type": "code",
      "source": [
        "rect = cv2.boundingRect(convexhull)\n",
        "subdiv = cv2.Subdiv2D(rect)\n",
        "subdiv.insert(landmarks_points)\n",
        "triangles = subdiv.getTriangleList()\n",
        "triangles = np.array(triangles, dtype=np.int32)"
      ],
      "metadata": {
        "id": "1zSnEoN_uJCt"
      },
      "execution_count": 9,
      "outputs": []
    },
    {
      "cell_type": "code",
      "source": [
        "indexes_triangles = []\n",
        "for t in triangles:\n",
        "  pt1= (t[0], t[1])\n",
        "  pt2= (t[2], t[3])\n",
        "  pt3= (t[4], t[5])\n",
        "  cv2.line(img, pt1, pt2, (0,0,255), 2)\n",
        "  cv2.line(img, pt2, pt3, (0,0,255), 2)\n",
        "  cv2.line(img, pt1, pt3, (0,0,255), 2)"
      ],
      "metadata": {
        "id": "m0SHmFtxu_HU"
      },
      "execution_count": 10,
      "outputs": []
    },
    {
      "cell_type": "code",
      "source": [],
      "metadata": {
        "id": "C9JTVXfAv48K"
      },
      "execution_count": null,
      "outputs": []
    }
  ]
}